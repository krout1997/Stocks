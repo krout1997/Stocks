{
  "nbformat": 4,
  "nbformat_minor": 0,
  "metadata": {
    "colab": {
      "name": "StockMarketPrediction",
      "provenance": []
    },
    "kernelspec": {
      "name": "python3",
      "display_name": "Python 3"
    },
    "language_info": {
      "name": "python"
    },
    "accelerator": "TPU"
  },
  "cells": [
    {
      "cell_type": "code",
      "metadata": {
        "id": "KdtXHJHQxHgy"
      },
      "source": [
        "import numpy as np\n",
        "import matplotlib.pyplot as plt\n",
        "import pandas as pd\n"
      ],
      "execution_count": 2,
      "outputs": []
    },
    {
      "cell_type": "code",
      "metadata": {
        "id": "vvZZ8j0wy0KW"
      },
      "source": [
        "import sklearn\n"
      ],
      "execution_count": 3,
      "outputs": []
    },
    {
      "cell_type": "code",
      "metadata": {
        "id": "GlvTcnV5zmBe"
      },
      "source": [
        "from sklearn.preprocessing import MinMaxScaler"
      ],
      "execution_count": 4,
      "outputs": []
    },
    {
      "cell_type": "code",
      "metadata": {
        "colab": {
          "base_uri": "https://localhost:8080/",
          "height": 205
        },
        "id": "HT6a2qlKzuCC",
        "outputId": "d9a1cc14-99a2-441f-c299-12b7c3571f56"
      },
      "source": [
        "data = pd.read_csv('/content/sample_data/GOOG.csv', date_parser = True)\n",
        "data.tail()"
      ],
      "execution_count": 6,
      "outputs": [
        {
          "output_type": "execute_result",
          "data": {
            "text/html": [
              "<div>\n",
              "<style scoped>\n",
              "    .dataframe tbody tr th:only-of-type {\n",
              "        vertical-align: middle;\n",
              "    }\n",
              "\n",
              "    .dataframe tbody tr th {\n",
              "        vertical-align: top;\n",
              "    }\n",
              "\n",
              "    .dataframe thead th {\n",
              "        text-align: right;\n",
              "    }\n",
              "</style>\n",
              "<table border=\"1\" class=\"dataframe\">\n",
              "  <thead>\n",
              "    <tr style=\"text-align: right;\">\n",
              "      <th></th>\n",
              "      <th>Date</th>\n",
              "      <th>Open</th>\n",
              "      <th>High</th>\n",
              "      <th>Low</th>\n",
              "      <th>Close</th>\n",
              "      <th>Adj Close</th>\n",
              "      <th>Volume</th>\n",
              "    </tr>\n",
              "  </thead>\n",
              "  <tbody>\n",
              "    <tr>\n",
              "      <th>4266</th>\n",
              "      <td>2021-08-02</td>\n",
              "      <td>2709.689941</td>\n",
              "      <td>2720.409912</td>\n",
              "      <td>2693.389893</td>\n",
              "      <td>2719.790039</td>\n",
              "      <td>2719.790039</td>\n",
              "      <td>1007000</td>\n",
              "    </tr>\n",
              "    <tr>\n",
              "      <th>4267</th>\n",
              "      <td>2021-08-03</td>\n",
              "      <td>2720.000000</td>\n",
              "      <td>2726.709961</td>\n",
              "      <td>2683.669922</td>\n",
              "      <td>2725.600098</td>\n",
              "      <td>2725.600098</td>\n",
              "      <td>953200</td>\n",
              "    </tr>\n",
              "    <tr>\n",
              "      <th>4268</th>\n",
              "      <td>2021-08-04</td>\n",
              "      <td>2724.989990</td>\n",
              "      <td>2730.760010</td>\n",
              "      <td>2708.300049</td>\n",
              "      <td>2720.570068</td>\n",
              "      <td>2720.570068</td>\n",
              "      <td>826400</td>\n",
              "    </tr>\n",
              "    <tr>\n",
              "      <th>4269</th>\n",
              "      <td>2021-08-05</td>\n",
              "      <td>2720.570068</td>\n",
              "      <td>2739.000000</td>\n",
              "      <td>2712.000000</td>\n",
              "      <td>2738.800049</td>\n",
              "      <td>2738.800049</td>\n",
              "      <td>593300</td>\n",
              "    </tr>\n",
              "    <tr>\n",
              "      <th>4270</th>\n",
              "      <td>2021-08-06</td>\n",
              "      <td>2725.899902</td>\n",
              "      <td>2741.601074</td>\n",
              "      <td>2720.929932</td>\n",
              "      <td>2740.719971</td>\n",
              "      <td>2740.719971</td>\n",
              "      <td>678000</td>\n",
              "    </tr>\n",
              "  </tbody>\n",
              "</table>\n",
              "</div>"
            ],
            "text/plain": [
              "            Date         Open         High  ...        Close    Adj Close   Volume\n",
              "4266  2021-08-02  2709.689941  2720.409912  ...  2719.790039  2719.790039  1007000\n",
              "4267  2021-08-03  2720.000000  2726.709961  ...  2725.600098  2725.600098   953200\n",
              "4268  2021-08-04  2724.989990  2730.760010  ...  2720.570068  2720.570068   826400\n",
              "4269  2021-08-05  2720.570068  2739.000000  ...  2738.800049  2738.800049   593300\n",
              "4270  2021-08-06  2725.899902  2741.601074  ...  2740.719971  2740.719971   678000\n",
              "\n",
              "[5 rows x 7 columns]"
            ]
          },
          "metadata": {
            "tags": []
          },
          "execution_count": 6
        }
      ]
    },
    {
      "cell_type": "code",
      "metadata": {
        "id": "HJzCqOlEzyqm"
      },
      "source": [
        "data_training = data[data['Date']<'2019-01-01'].copy()\n",
        "data_test = data[data['Date']>='2019-01-01'].copy()"
      ],
      "execution_count": 7,
      "outputs": []
    },
    {
      "cell_type": "code",
      "metadata": {
        "id": "TsXmu7-50ErM"
      },
      "source": [
        "data_training = data_training.drop(['Date', 'Adj Close'], axis = 1)"
      ],
      "execution_count": 8,
      "outputs": []
    },
    {
      "cell_type": "code",
      "metadata": {
        "colab": {
          "base_uri": "https://localhost:8080/"
        },
        "id": "-sprOE-f0IcG",
        "outputId": "4db1e428-9a43-4ed3-8f2b-b2e78e87f146"
      },
      "source": [
        "scaler = MinMaxScaler()\n",
        "data_training = scaler.fit_transform(data_training)\n",
        "data_training"
      ],
      "execution_count": 9,
      "outputs": [
        {
          "output_type": "execute_result",
          "data": {
            "text/plain": [
              "array([[7.42148227e-04, 2.98909923e-03, 6.47716504e-04, 3.39307537e-03,\n",
              "        2.77885876e-01],\n",
              "       [4.71386886e-03, 4.78092896e-03, 4.19769536e-03, 3.83867225e-03,\n",
              "        2.22151352e-01],\n",
              "       [4.91367646e-03, 4.01532941e-03, 1.92238659e-03, 1.98679178e-03,\n",
              "        1.85522815e-01],\n",
              "       ...,\n",
              "       [7.92197108e-01, 8.11970141e-01, 7.89936884e-01, 8.15799920e-01,\n",
              "        2.54669035e-02],\n",
              "       [8.18777193e-01, 8.21510648e-01, 8.20026849e-01, 8.10219301e-01,\n",
              "        1.70461017e-02],\n",
              "       [8.19874096e-01, 8.19172449e-01, 8.12100139e-01, 8.09012935e-01,\n",
              "        1.79972283e-02]])"
            ]
          },
          "metadata": {
            "tags": []
          },
          "execution_count": 9
        }
      ]
    },
    {
      "cell_type": "code",
      "metadata": {
        "id": "migybe_q0LQ-"
      },
      "source": [
        "X_train = []\n",
        "y_train = []\n",
        "\n",
        "for i in range(60, data_training.shape[0]):\n",
        "    X_train.append(data_training[i-60:i])\n",
        "    y_train.append(data_training[i, 0])\n",
        "    \n",
        "X_train, y_train = np.array(X_train), np.array(y_train)"
      ],
      "execution_count": 10,
      "outputs": []
    },
    {
      "cell_type": "code",
      "metadata": {
        "id": "60AreHW20VWU"
      },
      "source": [
        "from tensorflow.keras import Sequential\n",
        "from tensorflow.keras.layers import Dense, LSTM, Dropout"
      ],
      "execution_count": 11,
      "outputs": []
    },
    {
      "cell_type": "code",
      "metadata": {
        "id": "JbW-pIex0ZkV"
      },
      "source": [
        "regressor = Sequential()\n",
        "\n",
        "regressor.add(LSTM(units = 60, activation = 'relu', return_sequences = True, input_shape = (X_train.shape[1], 5)))\n",
        "regressor.add(Dropout(0.2))\n",
        "\n",
        "regressor.add(LSTM(units = 60, activation = 'relu', return_sequences = True))\n",
        "regressor.add(Dropout(0.2))\n",
        "\n",
        "regressor.add(LSTM(units = 80, activation = 'relu', return_sequences = True))\n",
        "regressor.add(Dropout(0.2))\n",
        "\n",
        "regressor.add(LSTM(units = 120, activation = 'relu'))\n",
        "regressor.add(Dropout(0.2))\n",
        "\n",
        "regressor.add(Dense(units = 1))"
      ],
      "execution_count": 12,
      "outputs": []
    },
    {
      "cell_type": "code",
      "metadata": {
        "colab": {
          "base_uri": "https://localhost:8080/"
        },
        "id": "l-kdxUhM0eZb",
        "outputId": "d98b4eb6-41e5-45bf-e604-1a94a702df74"
      },
      "source": [
        "regressor.summary()"
      ],
      "execution_count": 13,
      "outputs": [
        {
          "output_type": "stream",
          "text": [
            "Model: \"sequential\"\n",
            "_________________________________________________________________\n",
            "Layer (type)                 Output Shape              Param #   \n",
            "=================================================================\n",
            "lstm (LSTM)                  (None, 60, 60)            15840     \n",
            "_________________________________________________________________\n",
            "dropout (Dropout)            (None, 60, 60)            0         \n",
            "_________________________________________________________________\n",
            "lstm_1 (LSTM)                (None, 60, 60)            29040     \n",
            "_________________________________________________________________\n",
            "dropout_1 (Dropout)          (None, 60, 60)            0         \n",
            "_________________________________________________________________\n",
            "lstm_2 (LSTM)                (None, 60, 80)            45120     \n",
            "_________________________________________________________________\n",
            "dropout_2 (Dropout)          (None, 60, 80)            0         \n",
            "_________________________________________________________________\n",
            "lstm_3 (LSTM)                (None, 120)               96480     \n",
            "_________________________________________________________________\n",
            "dropout_3 (Dropout)          (None, 120)               0         \n",
            "_________________________________________________________________\n",
            "dense (Dense)                (None, 1)                 121       \n",
            "=================================================================\n",
            "Total params: 186,601\n",
            "Trainable params: 186,601\n",
            "Non-trainable params: 0\n",
            "_________________________________________________________________\n"
          ],
          "name": "stdout"
        }
      ]
    },
    {
      "cell_type": "code",
      "metadata": {
        "colab": {
          "base_uri": "https://localhost:8080/"
        },
        "id": "Hmbzteus0iCQ",
        "outputId": "a7b4d500-d0a8-42f4-c967-db553e83f6e6"
      },
      "source": [
        "regressor.compile(optimizer='adam', loss = 'mean_squared_error')\n",
        "regressor.fit(X_train, y_train, epochs=10, batch_size=32)"
      ],
      "execution_count": 16,
      "outputs": [
        {
          "output_type": "stream",
          "text": [
            "Epoch 1/10\n",
            "112/112 [==============================] - 49s 163ms/step - loss: 0.0014\n",
            "Epoch 2/10\n",
            "112/112 [==============================] - 18s 163ms/step - loss: 0.0013\n",
            "Epoch 3/10\n",
            "112/112 [==============================] - 18s 163ms/step - loss: 0.0011\n",
            "Epoch 4/10\n",
            "112/112 [==============================] - 18s 162ms/step - loss: 0.0012\n",
            "Epoch 5/10\n",
            "112/112 [==============================] - 18s 164ms/step - loss: 0.0012\n",
            "Epoch 6/10\n",
            "112/112 [==============================] - 18s 164ms/step - loss: 0.0010\n",
            "Epoch 7/10\n",
            "112/112 [==============================] - 18s 163ms/step - loss: 9.4321e-04\n",
            "Epoch 8/10\n",
            "112/112 [==============================] - 18s 163ms/step - loss: 0.0010\n",
            "Epoch 9/10\n",
            "112/112 [==============================] - 18s 162ms/step - loss: 9.6105e-04\n",
            "Epoch 10/10\n",
            "112/112 [==============================] - 18s 164ms/step - loss: 0.0011\n"
          ],
          "name": "stdout"
        },
        {
          "output_type": "execute_result",
          "data": {
            "text/plain": [
              "<tensorflow.python.keras.callbacks.History at 0x7f10bdb8ab90>"
            ]
          },
          "metadata": {
            "tags": []
          },
          "execution_count": 16
        }
      ]
    },
    {
      "cell_type": "code",
      "metadata": {
        "id": "6Ky18zYb0mZl"
      },
      "source": [
        "past_60_days = data_test.tail(60)"
      ],
      "execution_count": 19,
      "outputs": []
    },
    {
      "cell_type": "code",
      "metadata": {
        "colab": {
          "base_uri": "https://localhost:8080/",
          "height": 205
        },
        "id": "7Cuhuv8B1blm",
        "outputId": "7f5b356b-0e8a-405b-e023-eb659953faa5"
      },
      "source": [
        "df = past_60_days.append(data_test, ignore_index = True)\n",
        "df = df.drop(['Date', 'Adj Close'], axis = 1)\n",
        "df.head()"
      ],
      "execution_count": 20,
      "outputs": [
        {
          "output_type": "execute_result",
          "data": {
            "text/html": [
              "<div>\n",
              "<style scoped>\n",
              "    .dataframe tbody tr th:only-of-type {\n",
              "        vertical-align: middle;\n",
              "    }\n",
              "\n",
              "    .dataframe tbody tr th {\n",
              "        vertical-align: top;\n",
              "    }\n",
              "\n",
              "    .dataframe thead th {\n",
              "        text-align: right;\n",
              "    }\n",
              "</style>\n",
              "<table border=\"1\" class=\"dataframe\">\n",
              "  <thead>\n",
              "    <tr style=\"text-align: right;\">\n",
              "      <th></th>\n",
              "      <th>Open</th>\n",
              "      <th>High</th>\n",
              "      <th>Low</th>\n",
              "      <th>Close</th>\n",
              "      <th>Volume</th>\n",
              "    </tr>\n",
              "  </thead>\n",
              "  <tbody>\n",
              "    <tr>\n",
              "      <th>0</th>\n",
              "      <td>2261.090088</td>\n",
              "      <td>2276.601074</td>\n",
              "      <td>2242.719971</td>\n",
              "      <td>2261.969971</td>\n",
              "      <td>1333500</td>\n",
              "    </tr>\n",
              "    <tr>\n",
              "      <th>1</th>\n",
              "      <td>2291.830078</td>\n",
              "      <td>2321.139893</td>\n",
              "      <td>2283.320068</td>\n",
              "      <td>2316.159912</td>\n",
              "      <td>1331200</td>\n",
              "    </tr>\n",
              "    <tr>\n",
              "      <th>2</th>\n",
              "      <td>2309.320068</td>\n",
              "      <td>2323.340088</td>\n",
              "      <td>2295.000000</td>\n",
              "      <td>2321.409912</td>\n",
              "      <td>992100</td>\n",
              "    </tr>\n",
              "    <tr>\n",
              "      <th>3</th>\n",
              "      <td>2336.906006</td>\n",
              "      <td>2343.149902</td>\n",
              "      <td>2303.159912</td>\n",
              "      <td>2303.429932</td>\n",
              "      <td>865100</td>\n",
              "    </tr>\n",
              "    <tr>\n",
              "      <th>4</th>\n",
              "      <td>2264.399902</td>\n",
              "      <td>2316.760010</td>\n",
              "      <td>2263.520020</td>\n",
              "      <td>2308.709961</td>\n",
              "      <td>967500</td>\n",
              "    </tr>\n",
              "  </tbody>\n",
              "</table>\n",
              "</div>"
            ],
            "text/plain": [
              "          Open         High          Low        Close   Volume\n",
              "0  2261.090088  2276.601074  2242.719971  2261.969971  1333500\n",
              "1  2291.830078  2321.139893  2283.320068  2316.159912  1331200\n",
              "2  2309.320068  2323.340088  2295.000000  2321.409912   992100\n",
              "3  2336.906006  2343.149902  2303.159912  2303.429932   865100\n",
              "4  2264.399902  2316.760010  2263.520020  2308.709961   967500"
            ]
          },
          "metadata": {
            "tags": []
          },
          "execution_count": 20
        }
      ]
    },
    {
      "cell_type": "code",
      "metadata": {
        "colab": {
          "base_uri": "https://localhost:8080/"
        },
        "id": "OF9tSh-f1fix",
        "outputId": "92edd9dd-8db5-4a33-cb37-9440dbf27e26"
      },
      "source": [
        "inputs = scaler.transform(df)\n",
        "inputs"
      ],
      "execution_count": 21,
      "outputs": [
        {
          "output_type": "execute_result",
          "data": {
            "text/plain": [
              "array([[1.81049282, 1.81973748, 1.82826637, 1.81545382, 0.01606105],\n",
              "       [1.83565674, 1.8561489 , 1.86210727, 1.85992606, 0.01603318],\n",
              "       [1.84997413, 1.85794761, 1.87184269, 1.8642346 , 0.01192456],\n",
              "       ...,\n",
              "       [2.19024366, 2.191022  , 2.21633555, 2.19181468, 0.00991689],\n",
              "       [2.18662549, 2.19775837, 2.21941952, 2.20677553, 0.00709259],\n",
              "       [2.19098852, 2.1998848 , 2.22686278, 2.20835116, 0.00811884]])"
            ]
          },
          "metadata": {
            "tags": []
          },
          "execution_count": 21
        }
      ]
    },
    {
      "cell_type": "code",
      "metadata": {
        "colab": {
          "base_uri": "https://localhost:8080/"
        },
        "id": "058SGG3P1jfg",
        "outputId": "53366cbe-249d-4d9d-820d-e18a50cdb303"
      },
      "source": [
        "X_test = []\n",
        "y_test = []\n",
        "\n",
        "for i in range(60, inputs.shape[0]):\n",
        "    X_test.append(inputs[i-60:i])\n",
        "    y_test.append(inputs[i, 0])\n",
        "\n",
        "X_test, y_test = np.array(X_test), np.array(y_test)\n",
        "X_test.shape, y_test.shape"
      ],
      "execution_count": 22,
      "outputs": [
        {
          "output_type": "execute_result",
          "data": {
            "text/plain": [
              "((655, 60, 5), (655,))"
            ]
          },
          "metadata": {
            "tags": []
          },
          "execution_count": 22
        }
      ]
    },
    {
      "cell_type": "code",
      "metadata": {
        "id": "9DQuQiU_1mwZ"
      },
      "source": [
        "y_pred = regressor.predict(X_test)"
      ],
      "execution_count": 23,
      "outputs": []
    },
    {
      "cell_type": "code",
      "metadata": {
        "colab": {
          "base_uri": "https://localhost:8080/"
        },
        "id": "LIST0E561qHc",
        "outputId": "78159642-30fc-4a5e-a575-97344d753dae"
      },
      "source": [
        "scaler.scale_"
      ],
      "execution_count": 24,
      "outputs": [
        {
          "output_type": "execute_result",
          "data": {
            "text/plain": [
              "array([8.18605127e-04, 8.17521128e-04, 8.33517573e-04, 8.20673293e-04,\n",
              "       1.21162615e-08])"
            ]
          },
          "metadata": {
            "tags": []
          },
          "execution_count": 24
        }
      ]
    },
    {
      "cell_type": "code",
      "metadata": {
        "id": "r_J_Cxmq3Zgm"
      },
      "source": [
        "scale = 1/8.18605127e-04\n",
        "y_pred = y_pred*scale\n",
        "y_test = y_test*scale"
      ],
      "execution_count": 25,
      "outputs": []
    },
    {
      "cell_type": "code",
      "metadata": {
        "colab": {
          "base_uri": "https://localhost:8080/",
          "height": 350
        },
        "id": "kxISqH0H3iN6",
        "outputId": "448fe569-219b-44c7-af76-e726845ce582"
      },
      "source": [
        "# Visualising the results\n",
        "plt.figure(figsize=(14,5))\n",
        "plt.plot(y_test, color = 'red', label = 'Real Google Stock Price')\n",
        "plt.plot(y_pred, color = 'blue', label = 'Predicted Google Stock Price')\n",
        "plt.title('Google Stock Price Prediction')\n",
        "plt.xlabel('Time')\n",
        "plt.ylabel('Google Stock Price')\n",
        "plt.legend()\n",
        "plt.show()"
      ],
      "execution_count": 26,
      "outputs": [
        {
          "output_type": "display_data",
          "data": {
            "image/png": "[encoded data removed]",
            "text/plain": [
              "<Figure size 1008x360 with 1 Axes>"
            ]
          },
          "metadata": {
            "tags": [],
            "needs_background": "light"
          }
        }
      ]
    }
  ]
}